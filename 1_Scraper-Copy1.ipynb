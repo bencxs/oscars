{
 "cells": [
  {
   "cell_type": "code",
   "execution_count": null,
   "metadata": {
    "collapsed": false
   },
   "outputs": [],
   "source": [
    "from bs4 import BeautifulSoup\n",
    "from itertools import islice\n",
    "import urllib\n",
    "import csv\n",
    "import re\n",
    "\n",
    "# Open csv file and read rows into a dict\n",
    "movie_list = {}\n",
    "with open('movie_list.csv', 'r') as csvfile:\n",
    "    reader = csv.DictReader(csvfile)\n",
    "    for rows in reader:\n",
    "        # Remove punctuation except \"'s\" e.g. Winter's Bone\n",
    "        rows['movie_title'] = re.sub(r'[,:;!?/-]', '', rows['movie_title'])\n",
    "        movie_list[rows['movie_title']] = rows['release_year']\n",
    "        \n",
    "'''def take(n, iterable):\n",
    "    \"Return first n items of the iterable as a list\"\n",
    "    return list(islice(iterable, n))\n",
    " \n",
    "n_items = take(3, movie_list.iteritems())\n",
    " \n",
    "print n_items'''\n",
    "\n",
    "print movie_list"
   ]
  },
  {
   "cell_type": "code",
   "execution_count": null,
   "metadata": {
    "collapsed": false
   },
   "outputs": [],
   "source": [
    "def get_imdbid(movie_list):\n",
    "    '''\n",
    "    Retrieve IMDb IDs from movie list via OMDb API\n",
    "    '''\n",
    "    imdbid = {}\n",
    "    for title, year in movie_list.iteritems():\n",
    "        # Add + in between spaces in movie title\n",
    "        title_query = re.sub(r'\\s', '+', title)\n",
    "        # Extract IMDb IDs\n",
    "        r = urllib.urlopen('http://www.omdbapi.com/?t=' \n",
    "                           + title_query + '&y=' + year + '&plot=short&r=xml').read()\n",
    "        soup = BeautifulSoup(r, 'xml')\n",
    "        # Handle invalid movie title/year search\n",
    "        if soup.error:\n",
    "            print title + \" not found\"\n",
    "        else:\n",
    "            imdbid[title] = soup.movie['imdbID']\n",
    "    return imdbid\n",
    "\n",
    "imdbid = get_imdbid(movie_list)\n",
    "print imdbid"
   ]
  },
  {
   "cell_type": "code",
   "execution_count": null,
   "metadata": {
    "collapsed": false
   },
   "outputs": [],
   "source": [
    "def get_awards(imdbid, award_list):\n",
    "    '''\n",
    "    Scrape list of awards nominated and won for each movie title\n",
    "    '''\n",
    "    dataset = {}\n",
    "    for title, id in imdbid.iteritems():\n",
    "        # Add movie titles in dataset\n",
    "        dataset[title] = {}\n",
    "        r = urllib.urlopen('http://www.imdb.com/title/' + id + '/awards?ref_=tt_awd').read()\n",
    "        soup = BeautifulSoup(r, 'lxml')\n",
    "        awards = soup.find(\"div\", class_=\"article listo\")\n",
    "        for a in awards.contents:\n",
    "            for award in award_list:\n",
    "                # Search for h3 tags which contain the award title\n",
    "                # NavigableString element is converted to unicode string to save memory\n",
    "                if a.name == \"h3\" and unicode(a.next_element).strip() == award:\n",
    "                    # Search award results in its next sibling\n",
    "                    result = a.find_next_sibling().td.b\n",
    "                    # If award is won, add award = 1 to dataset\n",
    "                    if result.get_text() == \"Won\":\n",
    "                        dataset[title][award] = 1\n",
    "                else:\n",
    "                    # Add award = 0 if not won\n",
    "                    try:\n",
    "                        dataset[title][award] != 1\n",
    "                    except:\n",
    "                        dataset[title][award] = 0\n",
    "    return dataset\n",
    "    \n",
    "award_list = [\"Screen Actors Guild Awards\", \"Directors Guild\", \"Producers Guild\"]       \n",
    "dataset = get_awards(imdbid, award_list)\n",
    "#print dataset"
   ]
  }
 ],
 "metadata": {
  "anaconda-cloud": {},
  "kernelspec": {
   "display_name": "Python [Root]",
   "language": "python",
   "name": "Python [Root]"
  },
  "language_info": {
   "codemirror_mode": {
    "name": "ipython",
    "version": 2
   },
   "file_extension": ".py",
   "mimetype": "text/x-python",
   "name": "python",
   "nbconvert_exporter": "python",
   "pygments_lexer": "ipython2",
   "version": "2.7.12"
  }
 },
 "nbformat": 4,
 "nbformat_minor": 0
}
