{
 "cells": [
  {
   "cell_type": "code",
   "execution_count": 2,
   "metadata": {
    "collapsed": false
   },
   "outputs": [
    {
     "name": "stdout",
     "output_type": "stream",
     "text": [
      "{'12 Years a Slave': '2013', \"Winter's Bone\": '2010', 'Crouching Tiger Hidden Dragon': '2000', 'Mad Max Fury Road': '2015'}\n"
     ]
    }
   ],
   "source": [
    "from bs4 import BeautifulSoup\n",
    "import urllib\n",
    "import csv\n",
    "import re\n",
    "\n",
    "# Open csv file and read rows into a dict\n",
    "movie_list = {}\n",
    "with open('movie_list.csv', 'r') as csvfile:\n",
    "    reader = csv.DictReader(csvfile)\n",
    "    for rows in reader:\n",
    "        # Remove punctuation except \"'s\"\n",
    "        rows['movie_title'] = re.sub(r'[,:;!?-]', '', rows['movie_title'])\n",
    "        movie_list[rows['movie_title']] = rows['release_year']\n",
    "        \n",
    "print movie_list"
   ]
  },
  {
   "cell_type": "code",
   "execution_count": 3,
   "metadata": {
    "collapsed": false
   },
   "outputs": [
    {
     "name": "stdout",
     "output_type": "stream",
     "text": [
      "{'Mad Max Fury Road': u'tt1392190', '12 Years a Slave': u'tt2024544', \"Winter's Bone\": u'tt1399683', 'Crouching Tiger Hidden Dragon': u'tt0190332'}\n"
     ]
    }
   ],
   "source": [
    "def get_imdbid(movie_list):\n",
    "    '''\n",
    "    Retrieve IMDb IDs from movie list via OMDb API\n",
    "    '''\n",
    "    imdbid = {}\n",
    "    for title, year in movie_list.iteritems():\n",
    "        # Add + in between spaces in movie title\n",
    "        title_query = re.sub(r'\\s', '+', title)\n",
    "        # Extract IMDb IDs\n",
    "        r = urllib.urlopen('http://www.omdbapi.com/?t=' \n",
    "                           + title_query + '&y=' + year + '&plot=short&r=xml').read()\n",
    "        soup = BeautifulSoup(r, 'xml')\n",
    "        imdbid[title] = soup.movie['imdbID']\n",
    "    return imdbid\n",
    "\n",
    "imdbid = get_imdbid(movie_list)\n",
    "print imdbid"
   ]
  },
  {
   "cell_type": "code",
   "execution_count": 40,
   "metadata": {
    "collapsed": false
   },
   "outputs": [
    {
     "name": "stdout",
     "output_type": "stream",
     "text": [
      "{'12 Years a Slave': {'Screen Actors Guild Awards': 0, 'Directors Guild': 0}, \"Winter's Bone\": {'Screen Actors Guild Awards': 0, 'Directors Guild': 0}, 'Crouching Tiger Hidden Dragon': {'Screen Actors Guild Awards': 0, 'Directors Guild': 0}, 'Mad Max Fury Road': {'Screen Actors Guild Awards': 0, 'Directors Guild': 0}}\n"
     ]
    }
   ],
   "source": [
    "def get_awards(imdbid, award_list, dataset):\n",
    "    '''\n",
    "    Scrape list of awards nominated and won for each movie title\n",
    "    '''\n",
    "    dataset = {}\n",
    "    for title, id in imdbid.iteritems():\n",
    "        # Add movie titles in dataset\n",
    "        dataset[title] = {}\n",
    "        r = urllib.urlopen('http://www.imdb.com/title/' + id + '/awards?ref_=tt_awd').read()\n",
    "        soup = BeautifulSoup(r, 'lxml')\n",
    "        awards = soup.find(\"div\", class_=\"article listo\")\n",
    "        for a in awards.contents:\n",
    "            for i in award_list:\n",
    "                # Search for h3 tags which contain the award title\n",
    "                if a.name == \"h3\" and a.find(string=re.compile('(?m)^' + i + '$')):\n",
    "                    # Search award results in its next sibling\n",
    "                    result = a.find_next_sibling().td.b\n",
    "                    # If award is won, add award = 1 to dataset\n",
    "                    if result.get_text() == \"Won\":\n",
    "                        dataset[title][i] = 1\n",
    "                else:\n",
    "                    # Add award = 0 if not won\n",
    "                    try:\n",
    "                        dataset[title][i] != 1\n",
    "                    except:\n",
    "                        dataset[title][i] = 0\n",
    "    return dataset\n",
    "    \n",
    "award_list = [\"Screen Actors Guild Awards\", \"Directors Guild\"]       \n",
    "dataset = get_awards(imdbid, award_list, dataset)\n",
    "print dataset"
   ]
  },
  {
   "cell_type": "code",
   "execution_count": 14,
   "metadata": {
    "collapsed": false
   },
   "outputs": [
    {
     "name": "stdout",
     "output_type": "stream",
     "text": [
      "{'Screen Actors Guild Awards': 1}\n"
     ]
    }
   ],
   "source": [
    "print dataset['Mad Max Fury Road']"
   ]
  },
  {
   "cell_type": "code",
   "execution_count": null,
   "metadata": {
    "collapsed": true
   },
   "outputs": [],
   "source": []
  }
 ],
 "metadata": {
  "anaconda-cloud": {},
  "kernelspec": {
   "display_name": "Python [Root]",
   "language": "python",
   "name": "Python [Root]"
  },
  "language_info": {
   "codemirror_mode": {
    "name": "ipython",
    "version": 2
   },
   "file_extension": ".py",
   "mimetype": "text/x-python",
   "name": "python",
   "nbconvert_exporter": "python",
   "pygments_lexer": "ipython2",
   "version": "2.7.12"
  }
 },
 "nbformat": 4,
 "nbformat_minor": 0
}
